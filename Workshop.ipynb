{
 "cells": [
  {
   "cell_type": "code",
   "execution_count": 99,
   "metadata": {},
   "outputs": [],
   "source": [
    "import pandas as pd\n",
    "import matplotlib.pyplot as plt"
   ]
  },
  {
   "cell_type": "code",
   "execution_count": 100,
   "metadata": {
    "scrolled": true
   },
   "outputs": [],
   "source": [
    "data = pd.read_csv('/Users/sharoncamachoguzman/Desktop/workshop/DataSet.csv', sep=\";\")"
   ]
  },
  {
   "cell_type": "code",
   "execution_count": 101,
   "metadata": {
    "scrolled": false
   },
   "outputs": [
    {
     "data": {
      "text/html": [
       "<div>\n",
       "<style scoped>\n",
       "    .dataframe tbody tr th:only-of-type {\n",
       "        vertical-align: middle;\n",
       "    }\n",
       "\n",
       "    .dataframe tbody tr th {\n",
       "        vertical-align: top;\n",
       "    }\n",
       "\n",
       "    .dataframe thead th {\n",
       "        text-align: right;\n",
       "    }\n",
       "</style>\n",
       "<table border=\"1\" class=\"dataframe\">\n",
       "  <thead>\n",
       "    <tr style=\"text-align: right;\">\n",
       "      <th></th>\n",
       "      <th>Nombre</th>\n",
       "      <th>Edad</th>\n",
       "      <th>Tr@bajo</th>\n",
       "      <th>Trabajo</th>\n",
       "      <th>Estado_Civil</th>\n",
       "      <th>Nivel_escolaridad</th>\n",
       "      <th>Nivel_escolaridad.1</th>\n",
       "      <th>Tiene_Credito?</th>\n",
       "      <th>Medio_de_Comunicación</th>\n",
       "      <th>Duracion_ultimo_contacto_seg</th>\n",
       "      <th>Order_D4te</th>\n",
       "      <th>envio23$%3</th>\n",
       "      <th>Segment</th>\n",
       "      <th>Categ</th>\n",
       "      <th>SubCat</th>\n",
       "      <th>V2016</th>\n",
       "      <th>V2017</th>\n",
       "      <th>V2018</th>\n",
       "    </tr>\n",
       "  </thead>\n",
       "  <tbody>\n",
       "    <tr>\n",
       "      <th>0</th>\n",
       "      <td>ketty-elvira/niño-calderon</td>\n",
       "      <td>58</td>\n",
       "      <td>management</td>\n",
       "      <td>management</td>\n",
       "      <td>married</td>\n",
       "      <td>tertiary</td>\n",
       "      <td>tertiary</td>\n",
       "      <td>no</td>\n",
       "      <td>unknown</td>\n",
       "      <td>261</td>\n",
       "      <td>13/09/17</td>\n",
       "      <td>Regular</td>\n",
       "      <td>Hogares</td>\n",
       "      <td>Tecnología</td>\n",
       "      <td>Cuadernos</td>\n",
       "      <td>22.483</td>\n",
       "      <td>490.004</td>\n",
       "      <td>669.895</td>\n",
       "    </tr>\n",
       "    <tr>\n",
       "      <th>1</th>\n",
       "      <td>yanira-pilar/garcia-barreto</td>\n",
       "      <td>44</td>\n",
       "      <td>technician</td>\n",
       "      <td>technician</td>\n",
       "      <td>single</td>\n",
       "      <td>secondary</td>\n",
       "      <td>secondary</td>\n",
       "      <td>no</td>\n",
       "      <td>unknown</td>\n",
       "      <td>151</td>\n",
       "      <td>25/03/18</td>\n",
       "      <td>Express_Aire</td>\n",
       "      <td>Corporativo</td>\n",
       "      <td>Muebles</td>\n",
       "      <td>Lapiceros_y_Marcadores</td>\n",
       "      <td>52.225</td>\n",
       "      <td>361.837</td>\n",
       "      <td>245.154</td>\n",
       "    </tr>\n",
       "    <tr>\n",
       "      <th>2</th>\n",
       "      <td>milton-marina/hernandez-vega</td>\n",
       "      <td>33</td>\n",
       "      <td>entrepreneur</td>\n",
       "      <td>entrepreneur</td>\n",
       "      <td>married</td>\n",
       "      <td>secondary</td>\n",
       "      <td>secondary</td>\n",
       "      <td>no</td>\n",
       "      <td>unknown</td>\n",
       "      <td>76</td>\n",
       "      <td>26/09/17</td>\n",
       "      <td>Express_Aire</td>\n",
       "      <td>Corporativo</td>\n",
       "      <td>Suplementos_Oficina</td>\n",
       "      <td>Papel</td>\n",
       "      <td>90.924</td>\n",
       "      <td>903.292</td>\n",
       "      <td>166.285</td>\n",
       "    </tr>\n",
       "    <tr>\n",
       "      <th>3</th>\n",
       "      <td>rocio-constanza/mora-lopez</td>\n",
       "      <td>47</td>\n",
       "      <td>blue-collar</td>\n",
       "      <td>blue-collar</td>\n",
       "      <td>married</td>\n",
       "      <td>No informa</td>\n",
       "      <td>No informa</td>\n",
       "      <td>no</td>\n",
       "      <td>unknown</td>\n",
       "      <td>92</td>\n",
       "      <td>14/07/16</td>\n",
       "      <td>Regular</td>\n",
       "      <td>Startups</td>\n",
       "      <td>Suplementos_Oficina</td>\n",
       "      <td>Reglas_tijeras</td>\n",
       "      <td>2.681</td>\n",
       "      <td>823.176</td>\n",
       "      <td>13.273</td>\n",
       "    </tr>\n",
       "    <tr>\n",
       "      <th>4</th>\n",
       "      <td>yeimi-constanza/arenas-torres</td>\n",
       "      <td>33</td>\n",
       "      <td>NaN</td>\n",
       "      <td>NaN</td>\n",
       "      <td>single</td>\n",
       "      <td>No informa</td>\n",
       "      <td>No informa</td>\n",
       "      <td>no</td>\n",
       "      <td>unknown</td>\n",
       "      <td>198</td>\n",
       "      <td>24/06/17</td>\n",
       "      <td>Express_Aire</td>\n",
       "      <td>Startups</td>\n",
       "      <td>Suplementos_Oficina</td>\n",
       "      <td>Telefonos_comunicaciones</td>\n",
       "      <td>68.063</td>\n",
       "      <td>552.045</td>\n",
       "      <td>123.810</td>\n",
       "    </tr>\n",
       "  </tbody>\n",
       "</table>\n",
       "</div>"
      ],
      "text/plain": [
       "                          Nombre  Edad       Tr@bajo       Trabajo  \\\n",
       "0     ketty-elvira/niño-calderon    58    management    management   \n",
       "1    yanira-pilar/garcia-barreto    44    technician    technician   \n",
       "2   milton-marina/hernandez-vega    33  entrepreneur  entrepreneur   \n",
       "3     rocio-constanza/mora-lopez    47   blue-collar   blue-collar   \n",
       "4  yeimi-constanza/arenas-torres    33           NaN           NaN   \n",
       "\n",
       "  Estado_Civil Nivel_escolaridad Nivel_escolaridad.1 Tiene_Credito?  \\\n",
       "0      married          tertiary            tertiary             no   \n",
       "1       single         secondary           secondary             no   \n",
       "2      married         secondary           secondary             no   \n",
       "3      married        No informa          No informa             no   \n",
       "4       single        No informa          No informa             no   \n",
       "\n",
       "  Medio_de_Comunicación  Duracion_ultimo_contacto_seg Order_D4te  \\\n",
       "0               unknown                           261   13/09/17   \n",
       "1               unknown                           151   25/03/18   \n",
       "2               unknown                            76   26/09/17   \n",
       "3               unknown                            92   14/07/16   \n",
       "4               unknown                           198   24/06/17   \n",
       "\n",
       "     envio23$%3      Segment                Categ                    SubCat  \\\n",
       "0       Regular      Hogares           Tecnología                 Cuadernos   \n",
       "1  Express_Aire  Corporativo              Muebles    Lapiceros_y_Marcadores   \n",
       "2  Express_Aire  Corporativo  Suplementos_Oficina                     Papel   \n",
       "3       Regular     Startups  Suplementos_Oficina            Reglas_tijeras   \n",
       "4  Express_Aire     Startups  Suplementos_Oficina  Telefonos_comunicaciones   \n",
       "\n",
       "    V2016    V2017    V2018  \n",
       "0  22.483  490.004  669.895  \n",
       "1  52.225  361.837  245.154  \n",
       "2  90.924  903.292  166.285  \n",
       "3   2.681  823.176   13.273  \n",
       "4  68.063  552.045  123.810  "
      ]
     },
     "execution_count": 101,
     "metadata": {},
     "output_type": "execute_result"
    }
   ],
   "source": [
    "data.head()"
   ]
  },
  {
   "cell_type": "markdown",
   "metadata": {},
   "source": [
    "Se observa que tengo datos unkknown, títulos con caracteres adicionales, nombres con caracteres adicionales, ventas y utilidad por años."
   ]
  },
  {
   "cell_type": "code",
   "execution_count": 102,
   "metadata": {},
   "outputs": [
    {
     "name": "stdout",
     "output_type": "stream",
     "text": [
      "<class 'pandas.core.frame.DataFrame'>\n",
      "RangeIndex: 12093 entries, 0 to 12092\n",
      "Data columns (total 18 columns):\n",
      "Nombre                          12093 non-null object\n",
      "Edad                            12093 non-null int64\n",
      "Tr@bajo                         11994 non-null object\n",
      "Trabajo                         11994 non-null object\n",
      "Estado_Civil                    12093 non-null object\n",
      "Nivel_escolaridad               12093 non-null object\n",
      "Nivel_escolaridad.1             12093 non-null object\n",
      "Tiene_Credito?                  12093 non-null object\n",
      "Medio_de_Comunicación           12093 non-null object\n",
      "Duracion_ultimo_contacto_seg    12093 non-null int64\n",
      "Order_D4te                      12093 non-null object\n",
      "envio23$%3                      12093 non-null object\n",
      "Segment                         12093 non-null object\n",
      "Categ                           12093 non-null object\n",
      "SubCat                          12093 non-null object\n",
      "V2016                           12093 non-null float64\n",
      "V2017                           12093 non-null float64\n",
      "V2018                           12093 non-null float64\n",
      "dtypes: float64(3), int64(2), object(13)\n",
      "memory usage: 1.7+ MB\n"
     ]
    }
   ],
   "source": [
    "data.info()"
   ]
  },
  {
   "cell_type": "markdown",
   "metadata": {},
   "source": [
    "Trabajo y nivel de escolaridad están repetidas, trabajo tiene valores nulos. Eliminamos los valores nulos"
   ]
  },
  {
   "cell_type": "code",
   "execution_count": null,
   "metadata": {},
   "outputs": [],
   "source": []
  },
  {
   "cell_type": "code",
   "execution_count": 103,
   "metadata": {},
   "outputs": [],
   "source": [
    "data = data.dropna()"
   ]
  },
  {
   "cell_type": "code",
   "execution_count": 104,
   "metadata": {},
   "outputs": [
    {
     "data": {
      "text/plain": [
       "Nombre                          False\n",
       "Edad                            False\n",
       "Tr@bajo                         False\n",
       "Trabajo                         False\n",
       "Estado_Civil                    False\n",
       "Nivel_escolaridad               False\n",
       "Nivel_escolaridad.1             False\n",
       "Tiene_Credito?                  False\n",
       "Medio_de_Comunicación           False\n",
       "Duracion_ultimo_contacto_seg    False\n",
       "Order_D4te                      False\n",
       "envio23$%3                      False\n",
       "Segment                         False\n",
       "Categ                           False\n",
       "SubCat                          False\n",
       "V2016                           False\n",
       "V2017                           False\n",
       "V2018                           False\n",
       "dtype: bool"
      ]
     },
     "execution_count": 104,
     "metadata": {},
     "output_type": "execute_result"
    }
   ],
   "source": [
    "data.isnull().any()"
   ]
  },
  {
   "cell_type": "code",
   "execution_count": 105,
   "metadata": {},
   "outputs": [
    {
     "name": "stdout",
     "output_type": "stream",
     "text": [
      "<class 'pandas.core.frame.DataFrame'>\n",
      "Int64Index: 11994 entries, 0 to 12092\n",
      "Data columns (total 18 columns):\n",
      "Nombre                          11994 non-null object\n",
      "Edad                            11994 non-null int64\n",
      "Tr@bajo                         11994 non-null object\n",
      "Trabajo                         11994 non-null object\n",
      "Estado_Civil                    11994 non-null object\n",
      "Nivel_escolaridad               11994 non-null object\n",
      "Nivel_escolaridad.1             11994 non-null object\n",
      "Tiene_Credito?                  11994 non-null object\n",
      "Medio_de_Comunicación           11994 non-null object\n",
      "Duracion_ultimo_contacto_seg    11994 non-null int64\n",
      "Order_D4te                      11994 non-null object\n",
      "envio23$%3                      11994 non-null object\n",
      "Segment                         11994 non-null object\n",
      "Categ                           11994 non-null object\n",
      "SubCat                          11994 non-null object\n",
      "V2016                           11994 non-null float64\n",
      "V2017                           11994 non-null float64\n",
      "V2018                           11994 non-null float64\n",
      "dtypes: float64(3), int64(2), object(13)\n",
      "memory usage: 1.7+ MB\n"
     ]
    }
   ],
   "source": [
    "data.info()"
   ]
  },
  {
   "cell_type": "code",
   "execution_count": 106,
   "metadata": {},
   "outputs": [
    {
     "data": {
      "text/plain": [
       "Nombre                          False\n",
       "Edad                            False\n",
       "Tr@bajo                         False\n",
       "Trabajo                         False\n",
       "Estado_Civil                    False\n",
       "Nivel_escolaridad               False\n",
       "Nivel_escolaridad.1             False\n",
       "Tiene_Credito?                  False\n",
       "Medio_de_Comunicación           False\n",
       "Duracion_ultimo_contacto_seg    False\n",
       "Order_D4te                      False\n",
       "envio23$%3                      False\n",
       "Segment                         False\n",
       "Categ                           False\n",
       "SubCat                          False\n",
       "V2016                           False\n",
       "V2017                           False\n",
       "V2018                           False\n",
       "dtype: bool"
      ]
     },
     "execution_count": 106,
     "metadata": {},
     "output_type": "execute_result"
    }
   ],
   "source": [
    "data.isnull().any()"
   ]
  },
  {
   "cell_type": "code",
   "execution_count": 107,
   "metadata": {},
   "outputs": [
    {
     "data": {
      "text/plain": [
       "unknown    11994\n",
       "Name: Medio_de_Comunicación, dtype: int64"
      ]
     },
     "execution_count": 107,
     "metadata": {},
     "output_type": "execute_result"
    }
   ],
   "source": [
    "data.Medio_de_Comunicación.value_counts()"
   ]
  },
  {
   "cell_type": "markdown",
   "metadata": {},
   "source": [
    "Todos son unknow, entonces eliminamos esa columna"
   ]
  },
  {
   "cell_type": "code",
   "execution_count": 108,
   "metadata": {},
   "outputs": [],
   "source": [
    "data = data.drop(data.loc[:,['Medio_de_Comunicación','Nivel_escolaridad.1','Tr@bajo']], axis=1)"
   ]
  },
  {
   "cell_type": "code",
   "execution_count": 109,
   "metadata": {},
   "outputs": [
    {
     "name": "stdout",
     "output_type": "stream",
     "text": [
      "<class 'pandas.core.frame.DataFrame'>\n",
      "Int64Index: 11994 entries, 0 to 12092\n",
      "Data columns (total 15 columns):\n",
      "Nombre                          11994 non-null object\n",
      "Edad                            11994 non-null int64\n",
      "Trabajo                         11994 non-null object\n",
      "Estado_Civil                    11994 non-null object\n",
      "Nivel_escolaridad               11994 non-null object\n",
      "Tiene_Credito?                  11994 non-null object\n",
      "Duracion_ultimo_contacto_seg    11994 non-null int64\n",
      "Order_D4te                      11994 non-null object\n",
      "envio23$%3                      11994 non-null object\n",
      "Segment                         11994 non-null object\n",
      "Categ                           11994 non-null object\n",
      "SubCat                          11994 non-null object\n",
      "V2016                           11994 non-null float64\n",
      "V2017                           11994 non-null float64\n",
      "V2018                           11994 non-null float64\n",
      "dtypes: float64(3), int64(2), object(10)\n",
      "memory usage: 1.5+ MB\n"
     ]
    }
   ],
   "source": [
    "data.info()"
   ]
  },
  {
   "cell_type": "markdown",
   "metadata": {},
   "source": [
    "Observamos que ya no existen la columna"
   ]
  },
  {
   "cell_type": "code",
   "execution_count": 110,
   "metadata": {},
   "outputs": [
    {
     "data": {
      "text/html": [
       "<div>\n",
       "<style scoped>\n",
       "    .dataframe tbody tr th:only-of-type {\n",
       "        vertical-align: middle;\n",
       "    }\n",
       "\n",
       "    .dataframe tbody tr th {\n",
       "        vertical-align: top;\n",
       "    }\n",
       "\n",
       "    .dataframe thead th {\n",
       "        text-align: right;\n",
       "    }\n",
       "</style>\n",
       "<table border=\"1\" class=\"dataframe\">\n",
       "  <thead>\n",
       "    <tr style=\"text-align: right;\">\n",
       "      <th></th>\n",
       "      <th>Nombre</th>\n",
       "      <th>variable</th>\n",
       "      <th>value</th>\n",
       "    </tr>\n",
       "  </thead>\n",
       "  <tbody>\n",
       "    <tr>\n",
       "      <th>0</th>\n",
       "      <td>ketty-elvira/niño-calderon</td>\n",
       "      <td>V2016</td>\n",
       "      <td>22.483</td>\n",
       "    </tr>\n",
       "    <tr>\n",
       "      <th>1</th>\n",
       "      <td>yanira-pilar/garcia-barreto</td>\n",
       "      <td>V2016</td>\n",
       "      <td>52.225</td>\n",
       "    </tr>\n",
       "    <tr>\n",
       "      <th>2</th>\n",
       "      <td>milton-marina/hernandez-vega</td>\n",
       "      <td>V2016</td>\n",
       "      <td>90.924</td>\n",
       "    </tr>\n",
       "    <tr>\n",
       "      <th>3</th>\n",
       "      <td>rocio-constanza/mora-lopez</td>\n",
       "      <td>V2016</td>\n",
       "      <td>2.681</td>\n",
       "    </tr>\n",
       "    <tr>\n",
       "      <th>4</th>\n",
       "      <td>claudia-stella/lopez-montoya</td>\n",
       "      <td>V2016</td>\n",
       "      <td>25.144</td>\n",
       "    </tr>\n",
       "  </tbody>\n",
       "</table>\n",
       "</div>"
      ],
      "text/plain": [
       "                         Nombre variable   value\n",
       "0    ketty-elvira/niño-calderon    V2016  22.483\n",
       "1   yanira-pilar/garcia-barreto    V2016  52.225\n",
       "2  milton-marina/hernandez-vega    V2016  90.924\n",
       "3    rocio-constanza/mora-lopez    V2016   2.681\n",
       "4  claudia-stella/lopez-montoya    V2016  25.144"
      ]
     },
     "execution_count": 110,
     "metadata": {},
     "output_type": "execute_result"
    }
   ],
   "source": [
    "#se crea una nueva tabla llamada ventas donde pivoteo los datos\n",
    "ventas = pd.melt(frame=data, id_vars='Nombre', value_vars=['V2016', 'V2017','V2018'])\n",
    "ventas.head()"
   ]
  },
  {
   "cell_type": "code",
   "execution_count": 111,
   "metadata": {},
   "outputs": [
    {
     "data": {
      "text/html": [
       "<div>\n",
       "<style scoped>\n",
       "    .dataframe tbody tr th:only-of-type {\n",
       "        vertical-align: middle;\n",
       "    }\n",
       "\n",
       "    .dataframe tbody tr th {\n",
       "        vertical-align: top;\n",
       "    }\n",
       "\n",
       "    .dataframe thead th {\n",
       "        text-align: right;\n",
       "    }\n",
       "</style>\n",
       "<table border=\"1\" class=\"dataframe\">\n",
       "  <thead>\n",
       "    <tr style=\"text-align: right;\">\n",
       "      <th></th>\n",
       "      <th>Nombre</th>\n",
       "      <th>Edad</th>\n",
       "      <th>Trabajo</th>\n",
       "      <th>Estado_Civil</th>\n",
       "      <th>Nivel_escolaridad</th>\n",
       "      <th>Tiene_Credito?</th>\n",
       "      <th>Duracion_ultimo_contacto_seg</th>\n",
       "      <th>Order_D4te</th>\n",
       "      <th>envio23$%3</th>\n",
       "      <th>Segment</th>\n",
       "      <th>Categ</th>\n",
       "      <th>SubCat</th>\n",
       "      <th>Ventas</th>\n",
       "      <th>Años</th>\n",
       "    </tr>\n",
       "  </thead>\n",
       "  <tbody>\n",
       "    <tr>\n",
       "      <th>0</th>\n",
       "      <td>ketty-elvira/niño-calderon</td>\n",
       "      <td>58</td>\n",
       "      <td>management</td>\n",
       "      <td>married</td>\n",
       "      <td>tertiary</td>\n",
       "      <td>no</td>\n",
       "      <td>261</td>\n",
       "      <td>13/09/17</td>\n",
       "      <td>Regular</td>\n",
       "      <td>Hogares</td>\n",
       "      <td>Tecnología</td>\n",
       "      <td>Cuadernos</td>\n",
       "      <td>22.483</td>\n",
       "      <td>V2016</td>\n",
       "    </tr>\n",
       "    <tr>\n",
       "      <th>1</th>\n",
       "      <td>yanira-pilar/garcia-barreto</td>\n",
       "      <td>44</td>\n",
       "      <td>technician</td>\n",
       "      <td>single</td>\n",
       "      <td>secondary</td>\n",
       "      <td>no</td>\n",
       "      <td>151</td>\n",
       "      <td>25/03/18</td>\n",
       "      <td>Express_Aire</td>\n",
       "      <td>Corporativo</td>\n",
       "      <td>Muebles</td>\n",
       "      <td>Lapiceros_y_Marcadores</td>\n",
       "      <td>52.225</td>\n",
       "      <td>V2016</td>\n",
       "    </tr>\n",
       "    <tr>\n",
       "      <th>2</th>\n",
       "      <td>milton-marina/hernandez-vega</td>\n",
       "      <td>33</td>\n",
       "      <td>entrepreneur</td>\n",
       "      <td>married</td>\n",
       "      <td>secondary</td>\n",
       "      <td>no</td>\n",
       "      <td>76</td>\n",
       "      <td>26/09/17</td>\n",
       "      <td>Express_Aire</td>\n",
       "      <td>Corporativo</td>\n",
       "      <td>Suplementos_Oficina</td>\n",
       "      <td>Papel</td>\n",
       "      <td>90.924</td>\n",
       "      <td>V2016</td>\n",
       "    </tr>\n",
       "    <tr>\n",
       "      <th>3</th>\n",
       "      <td>rocio-constanza/mora-lopez</td>\n",
       "      <td>47</td>\n",
       "      <td>blue-collar</td>\n",
       "      <td>married</td>\n",
       "      <td>No informa</td>\n",
       "      <td>no</td>\n",
       "      <td>92</td>\n",
       "      <td>14/07/16</td>\n",
       "      <td>Regular</td>\n",
       "      <td>Startups</td>\n",
       "      <td>Suplementos_Oficina</td>\n",
       "      <td>Reglas_tijeras</td>\n",
       "      <td>2.681</td>\n",
       "      <td>V2016</td>\n",
       "    </tr>\n",
       "    <tr>\n",
       "      <th>5</th>\n",
       "      <td>claudia-stella/lopez-montoya</td>\n",
       "      <td>35</td>\n",
       "      <td>management</td>\n",
       "      <td>married</td>\n",
       "      <td>tertiary</td>\n",
       "      <td>no</td>\n",
       "      <td>139</td>\n",
       "      <td>17/07/18</td>\n",
       "      <td>Express_Aire</td>\n",
       "      <td>Corporativo</td>\n",
       "      <td>Suplementos_Oficina</td>\n",
       "      <td>Papel</td>\n",
       "      <td>685.000</td>\n",
       "      <td>V2016</td>\n",
       "    </tr>\n",
       "  </tbody>\n",
       "</table>\n",
       "</div>"
      ],
      "text/plain": [
       "                         Nombre  Edad       Trabajo Estado_Civil  \\\n",
       "0    ketty-elvira/niño-calderon    58    management      married   \n",
       "1   yanira-pilar/garcia-barreto    44    technician       single   \n",
       "2  milton-marina/hernandez-vega    33  entrepreneur      married   \n",
       "3    rocio-constanza/mora-lopez    47   blue-collar      married   \n",
       "5  claudia-stella/lopez-montoya    35    management      married   \n",
       "\n",
       "  Nivel_escolaridad Tiene_Credito?  Duracion_ultimo_contacto_seg Order_D4te  \\\n",
       "0          tertiary             no                           261   13/09/17   \n",
       "1         secondary             no                           151   25/03/18   \n",
       "2         secondary             no                            76   26/09/17   \n",
       "3        No informa             no                            92   14/07/16   \n",
       "5          tertiary             no                           139   17/07/18   \n",
       "\n",
       "     envio23$%3      Segment                Categ                  SubCat  \\\n",
       "0       Regular      Hogares           Tecnología               Cuadernos   \n",
       "1  Express_Aire  Corporativo              Muebles  Lapiceros_y_Marcadores   \n",
       "2  Express_Aire  Corporativo  Suplementos_Oficina                   Papel   \n",
       "3       Regular     Startups  Suplementos_Oficina          Reglas_tijeras   \n",
       "5  Express_Aire  Corporativo  Suplementos_Oficina                   Papel   \n",
       "\n",
       "    Ventas   Años  \n",
       "0   22.483  V2016  \n",
       "1   52.225  V2016  \n",
       "2   90.924  V2016  \n",
       "3    2.681  V2016  \n",
       "5  685.000  V2016  "
      ]
     },
     "execution_count": 111,
     "metadata": {},
     "output_type": "execute_result"
    }
   ],
   "source": [
    "#Agrego las columnas variable y valor \n",
    "data[\"Ventas\"]= ventas['value']\n",
    "data[\"Años\"]= ventas['variable']\n",
    "\n",
    "#Elimino las otras columnas pues ya no las necesito\n",
    "data = data.drop(['V2016', 'V2017','V2018'], 1)\n",
    "data.head()"
   ]
  },
  {
   "cell_type": "code",
   "execution_count": 112,
   "metadata": {},
   "outputs": [
    {
     "data": {
      "text/plain": [
       "0      ketty elvira/niño calderon\n",
       "1     yanira pilar/garcia barreto\n",
       "2    milton marina/hernandez vega\n",
       "3      rocio constanza/mora lopez\n",
       "5    claudia stella/lopez montoya\n",
       "Name: Nombre, dtype: object"
      ]
     },
     "execution_count": 112,
     "metadata": {},
     "output_type": "execute_result"
    }
   ],
   "source": [
    "#Nombres y Apellidos\n",
    "data.Nombre = [str(x).replace(\"-\",\" \") for x in data['Nombre']]\n",
    "data.Nombre[0:5]"
   ]
  },
  {
   "cell_type": "code",
   "execution_count": 113,
   "metadata": {},
   "outputs": [
    {
     "data": {
      "text/html": [
       "<div>\n",
       "<style scoped>\n",
       "    .dataframe tbody tr th:only-of-type {\n",
       "        vertical-align: middle;\n",
       "    }\n",
       "\n",
       "    .dataframe tbody tr th {\n",
       "        vertical-align: top;\n",
       "    }\n",
       "\n",
       "    .dataframe thead th {\n",
       "        text-align: right;\n",
       "    }\n",
       "</style>\n",
       "<table border=\"1\" class=\"dataframe\">\n",
       "  <thead>\n",
       "    <tr style=\"text-align: right;\">\n",
       "      <th></th>\n",
       "      <th>0</th>\n",
       "      <th>1</th>\n",
       "    </tr>\n",
       "  </thead>\n",
       "  <tbody>\n",
       "    <tr>\n",
       "      <th>0</th>\n",
       "      <td>ketty elvira</td>\n",
       "      <td>niño calderon</td>\n",
       "    </tr>\n",
       "    <tr>\n",
       "      <th>1</th>\n",
       "      <td>yanira pilar</td>\n",
       "      <td>garcia barreto</td>\n",
       "    </tr>\n",
       "    <tr>\n",
       "      <th>2</th>\n",
       "      <td>milton marina</td>\n",
       "      <td>hernandez vega</td>\n",
       "    </tr>\n",
       "    <tr>\n",
       "      <th>3</th>\n",
       "      <td>rocio constanza</td>\n",
       "      <td>mora lopez</td>\n",
       "    </tr>\n",
       "    <tr>\n",
       "      <th>5</th>\n",
       "      <td>claudia stella</td>\n",
       "      <td>lopez montoya</td>\n",
       "    </tr>\n",
       "  </tbody>\n",
       "</table>\n",
       "</div>"
      ],
      "text/plain": [
       "                 0               1\n",
       "0     ketty elvira   niño calderon\n",
       "1     yanira pilar  garcia barreto\n",
       "2    milton marina  hernandez vega\n",
       "3  rocio constanza      mora lopez\n",
       "5   claudia stella   lopez montoya"
      ]
     },
     "execution_count": 113,
     "metadata": {},
     "output_type": "execute_result"
    }
   ],
   "source": [
    "#Seperamos Nombre y Apellido\n",
    "new = data[\"Nombre\"].str.split(\"/\", n = 1, expand = True) \n",
    "new.head()"
   ]
  },
  {
   "cell_type": "code",
   "execution_count": 114,
   "metadata": {},
   "outputs": [
    {
     "data": {
      "text/html": [
       "<div>\n",
       "<style scoped>\n",
       "    .dataframe tbody tr th:only-of-type {\n",
       "        vertical-align: middle;\n",
       "    }\n",
       "\n",
       "    .dataframe tbody tr th {\n",
       "        vertical-align: top;\n",
       "    }\n",
       "\n",
       "    .dataframe thead th {\n",
       "        text-align: right;\n",
       "    }\n",
       "</style>\n",
       "<table border=\"1\" class=\"dataframe\">\n",
       "  <thead>\n",
       "    <tr style=\"text-align: right;\">\n",
       "      <th></th>\n",
       "      <th>Nombre</th>\n",
       "      <th>Edad</th>\n",
       "      <th>Trabajo</th>\n",
       "      <th>Estado_Civil</th>\n",
       "      <th>Nivel_escolaridad</th>\n",
       "      <th>Tiene_Credito?</th>\n",
       "      <th>Duracion_ultimo_contacto_seg</th>\n",
       "      <th>Order_D4te</th>\n",
       "      <th>envio23$%3</th>\n",
       "      <th>Segment</th>\n",
       "      <th>Categ</th>\n",
       "      <th>SubCat</th>\n",
       "      <th>Ventas</th>\n",
       "      <th>Años</th>\n",
       "      <th>Nombres</th>\n",
       "    </tr>\n",
       "  </thead>\n",
       "  <tbody>\n",
       "    <tr>\n",
       "      <th>0</th>\n",
       "      <td>ketty elvira/niño calderon</td>\n",
       "      <td>58</td>\n",
       "      <td>management</td>\n",
       "      <td>married</td>\n",
       "      <td>tertiary</td>\n",
       "      <td>no</td>\n",
       "      <td>261</td>\n",
       "      <td>13/09/17</td>\n",
       "      <td>Regular</td>\n",
       "      <td>Hogares</td>\n",
       "      <td>Tecnología</td>\n",
       "      <td>Cuadernos</td>\n",
       "      <td>22.483</td>\n",
       "      <td>V2016</td>\n",
       "      <td>ketty elvira</td>\n",
       "    </tr>\n",
       "    <tr>\n",
       "      <th>1</th>\n",
       "      <td>yanira pilar/garcia barreto</td>\n",
       "      <td>44</td>\n",
       "      <td>technician</td>\n",
       "      <td>single</td>\n",
       "      <td>secondary</td>\n",
       "      <td>no</td>\n",
       "      <td>151</td>\n",
       "      <td>25/03/18</td>\n",
       "      <td>Express_Aire</td>\n",
       "      <td>Corporativo</td>\n",
       "      <td>Muebles</td>\n",
       "      <td>Lapiceros_y_Marcadores</td>\n",
       "      <td>52.225</td>\n",
       "      <td>V2016</td>\n",
       "      <td>yanira pilar</td>\n",
       "    </tr>\n",
       "    <tr>\n",
       "      <th>2</th>\n",
       "      <td>milton marina/hernandez vega</td>\n",
       "      <td>33</td>\n",
       "      <td>entrepreneur</td>\n",
       "      <td>married</td>\n",
       "      <td>secondary</td>\n",
       "      <td>no</td>\n",
       "      <td>76</td>\n",
       "      <td>26/09/17</td>\n",
       "      <td>Express_Aire</td>\n",
       "      <td>Corporativo</td>\n",
       "      <td>Suplementos_Oficina</td>\n",
       "      <td>Papel</td>\n",
       "      <td>90.924</td>\n",
       "      <td>V2016</td>\n",
       "      <td>milton marina</td>\n",
       "    </tr>\n",
       "    <tr>\n",
       "      <th>3</th>\n",
       "      <td>rocio constanza/mora lopez</td>\n",
       "      <td>47</td>\n",
       "      <td>blue-collar</td>\n",
       "      <td>married</td>\n",
       "      <td>No informa</td>\n",
       "      <td>no</td>\n",
       "      <td>92</td>\n",
       "      <td>14/07/16</td>\n",
       "      <td>Regular</td>\n",
       "      <td>Startups</td>\n",
       "      <td>Suplementos_Oficina</td>\n",
       "      <td>Reglas_tijeras</td>\n",
       "      <td>2.681</td>\n",
       "      <td>V2016</td>\n",
       "      <td>rocio constanza</td>\n",
       "    </tr>\n",
       "    <tr>\n",
       "      <th>5</th>\n",
       "      <td>claudia stella/lopez montoya</td>\n",
       "      <td>35</td>\n",
       "      <td>management</td>\n",
       "      <td>married</td>\n",
       "      <td>tertiary</td>\n",
       "      <td>no</td>\n",
       "      <td>139</td>\n",
       "      <td>17/07/18</td>\n",
       "      <td>Express_Aire</td>\n",
       "      <td>Corporativo</td>\n",
       "      <td>Suplementos_Oficina</td>\n",
       "      <td>Papel</td>\n",
       "      <td>685.000</td>\n",
       "      <td>V2016</td>\n",
       "      <td>claudia stella</td>\n",
       "    </tr>\n",
       "  </tbody>\n",
       "</table>\n",
       "</div>"
      ],
      "text/plain": [
       "                         Nombre  Edad       Trabajo Estado_Civil  \\\n",
       "0    ketty elvira/niño calderon    58    management      married   \n",
       "1   yanira pilar/garcia barreto    44    technician       single   \n",
       "2  milton marina/hernandez vega    33  entrepreneur      married   \n",
       "3    rocio constanza/mora lopez    47   blue-collar      married   \n",
       "5  claudia stella/lopez montoya    35    management      married   \n",
       "\n",
       "  Nivel_escolaridad Tiene_Credito?  Duracion_ultimo_contacto_seg Order_D4te  \\\n",
       "0          tertiary             no                           261   13/09/17   \n",
       "1         secondary             no                           151   25/03/18   \n",
       "2         secondary             no                            76   26/09/17   \n",
       "3        No informa             no                            92   14/07/16   \n",
       "5          tertiary             no                           139   17/07/18   \n",
       "\n",
       "     envio23$%3      Segment                Categ                  SubCat  \\\n",
       "0       Regular      Hogares           Tecnología               Cuadernos   \n",
       "1  Express_Aire  Corporativo              Muebles  Lapiceros_y_Marcadores   \n",
       "2  Express_Aire  Corporativo  Suplementos_Oficina                   Papel   \n",
       "3       Regular     Startups  Suplementos_Oficina          Reglas_tijeras   \n",
       "5  Express_Aire  Corporativo  Suplementos_Oficina                   Papel   \n",
       "\n",
       "    Ventas   Años          Nombres  \n",
       "0   22.483  V2016     ketty elvira  \n",
       "1   52.225  V2016     yanira pilar  \n",
       "2   90.924  V2016    milton marina  \n",
       "3    2.681  V2016  rocio constanza  \n",
       "5  685.000  V2016   claudia stella  "
      ]
     },
     "execution_count": 114,
     "metadata": {},
     "output_type": "execute_result"
    }
   ],
   "source": [
    "# Se pone el nombre en una nueva columna\n",
    "data[\"Nombres\"]= new[0]\n",
    "data.head()"
   ]
  },
  {
   "cell_type": "code",
   "execution_count": 115,
   "metadata": {},
   "outputs": [
    {
     "data": {
      "text/html": [
       "<div>\n",
       "<style scoped>\n",
       "    .dataframe tbody tr th:only-of-type {\n",
       "        vertical-align: middle;\n",
       "    }\n",
       "\n",
       "    .dataframe tbody tr th {\n",
       "        vertical-align: top;\n",
       "    }\n",
       "\n",
       "    .dataframe thead th {\n",
       "        text-align: right;\n",
       "    }\n",
       "</style>\n",
       "<table border=\"1\" class=\"dataframe\">\n",
       "  <thead>\n",
       "    <tr style=\"text-align: right;\">\n",
       "      <th></th>\n",
       "      <th>Nombre</th>\n",
       "      <th>Edad</th>\n",
       "      <th>Trabajo</th>\n",
       "      <th>Estado_Civil</th>\n",
       "      <th>Nivel_escolaridad</th>\n",
       "      <th>Tiene_Credito?</th>\n",
       "      <th>Duracion_ultimo_contacto_seg</th>\n",
       "      <th>Order_D4te</th>\n",
       "      <th>envio23$%3</th>\n",
       "      <th>Segment</th>\n",
       "      <th>Categ</th>\n",
       "      <th>SubCat</th>\n",
       "      <th>Ventas</th>\n",
       "      <th>Años</th>\n",
       "      <th>Nombres</th>\n",
       "      <th>Apellido</th>\n",
       "    </tr>\n",
       "  </thead>\n",
       "  <tbody>\n",
       "    <tr>\n",
       "      <th>0</th>\n",
       "      <td>ketty elvira/niño calderon</td>\n",
       "      <td>58</td>\n",
       "      <td>management</td>\n",
       "      <td>married</td>\n",
       "      <td>tertiary</td>\n",
       "      <td>no</td>\n",
       "      <td>261</td>\n",
       "      <td>13/09/17</td>\n",
       "      <td>Regular</td>\n",
       "      <td>Hogares</td>\n",
       "      <td>Tecnología</td>\n",
       "      <td>Cuadernos</td>\n",
       "      <td>22.483</td>\n",
       "      <td>V2016</td>\n",
       "      <td>ketty elvira</td>\n",
       "      <td>niño calderon</td>\n",
       "    </tr>\n",
       "    <tr>\n",
       "      <th>1</th>\n",
       "      <td>yanira pilar/garcia barreto</td>\n",
       "      <td>44</td>\n",
       "      <td>technician</td>\n",
       "      <td>single</td>\n",
       "      <td>secondary</td>\n",
       "      <td>no</td>\n",
       "      <td>151</td>\n",
       "      <td>25/03/18</td>\n",
       "      <td>Express_Aire</td>\n",
       "      <td>Corporativo</td>\n",
       "      <td>Muebles</td>\n",
       "      <td>Lapiceros_y_Marcadores</td>\n",
       "      <td>52.225</td>\n",
       "      <td>V2016</td>\n",
       "      <td>yanira pilar</td>\n",
       "      <td>garcia barreto</td>\n",
       "    </tr>\n",
       "    <tr>\n",
       "      <th>2</th>\n",
       "      <td>milton marina/hernandez vega</td>\n",
       "      <td>33</td>\n",
       "      <td>entrepreneur</td>\n",
       "      <td>married</td>\n",
       "      <td>secondary</td>\n",
       "      <td>no</td>\n",
       "      <td>76</td>\n",
       "      <td>26/09/17</td>\n",
       "      <td>Express_Aire</td>\n",
       "      <td>Corporativo</td>\n",
       "      <td>Suplementos_Oficina</td>\n",
       "      <td>Papel</td>\n",
       "      <td>90.924</td>\n",
       "      <td>V2016</td>\n",
       "      <td>milton marina</td>\n",
       "      <td>hernandez vega</td>\n",
       "    </tr>\n",
       "    <tr>\n",
       "      <th>3</th>\n",
       "      <td>rocio constanza/mora lopez</td>\n",
       "      <td>47</td>\n",
       "      <td>blue-collar</td>\n",
       "      <td>married</td>\n",
       "      <td>No informa</td>\n",
       "      <td>no</td>\n",
       "      <td>92</td>\n",
       "      <td>14/07/16</td>\n",
       "      <td>Regular</td>\n",
       "      <td>Startups</td>\n",
       "      <td>Suplementos_Oficina</td>\n",
       "      <td>Reglas_tijeras</td>\n",
       "      <td>2.681</td>\n",
       "      <td>V2016</td>\n",
       "      <td>rocio constanza</td>\n",
       "      <td>mora lopez</td>\n",
       "    </tr>\n",
       "    <tr>\n",
       "      <th>5</th>\n",
       "      <td>claudia stella/lopez montoya</td>\n",
       "      <td>35</td>\n",
       "      <td>management</td>\n",
       "      <td>married</td>\n",
       "      <td>tertiary</td>\n",
       "      <td>no</td>\n",
       "      <td>139</td>\n",
       "      <td>17/07/18</td>\n",
       "      <td>Express_Aire</td>\n",
       "      <td>Corporativo</td>\n",
       "      <td>Suplementos_Oficina</td>\n",
       "      <td>Papel</td>\n",
       "      <td>685.000</td>\n",
       "      <td>V2016</td>\n",
       "      <td>claudia stella</td>\n",
       "      <td>lopez montoya</td>\n",
       "    </tr>\n",
       "  </tbody>\n",
       "</table>\n",
       "</div>"
      ],
      "text/plain": [
       "                         Nombre  Edad       Trabajo Estado_Civil  \\\n",
       "0    ketty elvira/niño calderon    58    management      married   \n",
       "1   yanira pilar/garcia barreto    44    technician       single   \n",
       "2  milton marina/hernandez vega    33  entrepreneur      married   \n",
       "3    rocio constanza/mora lopez    47   blue-collar      married   \n",
       "5  claudia stella/lopez montoya    35    management      married   \n",
       "\n",
       "  Nivel_escolaridad Tiene_Credito?  Duracion_ultimo_contacto_seg Order_D4te  \\\n",
       "0          tertiary             no                           261   13/09/17   \n",
       "1         secondary             no                           151   25/03/18   \n",
       "2         secondary             no                            76   26/09/17   \n",
       "3        No informa             no                            92   14/07/16   \n",
       "5          tertiary             no                           139   17/07/18   \n",
       "\n",
       "     envio23$%3      Segment                Categ                  SubCat  \\\n",
       "0       Regular      Hogares           Tecnología               Cuadernos   \n",
       "1  Express_Aire  Corporativo              Muebles  Lapiceros_y_Marcadores   \n",
       "2  Express_Aire  Corporativo  Suplementos_Oficina                   Papel   \n",
       "3       Regular     Startups  Suplementos_Oficina          Reglas_tijeras   \n",
       "5  Express_Aire  Corporativo  Suplementos_Oficina                   Papel   \n",
       "\n",
       "    Ventas   Años          Nombres        Apellido  \n",
       "0   22.483  V2016     ketty elvira   niño calderon  \n",
       "1   52.225  V2016     yanira pilar  garcia barreto  \n",
       "2   90.924  V2016    milton marina  hernandez vega  \n",
       "3    2.681  V2016  rocio constanza      mora lopez  \n",
       "5  685.000  V2016   claudia stella   lopez montoya  "
      ]
     },
     "execution_count": 115,
     "metadata": {},
     "output_type": "execute_result"
    }
   ],
   "source": [
    "# Se pone el apellido en una nueva columna\n",
    "data[\"Apellido\"]= new[1] \n",
    "data.head()"
   ]
  },
  {
   "cell_type": "code",
   "execution_count": 116,
   "metadata": {},
   "outputs": [
    {
     "data": {
      "text/html": [
       "<div>\n",
       "<style scoped>\n",
       "    .dataframe tbody tr th:only-of-type {\n",
       "        vertical-align: middle;\n",
       "    }\n",
       "\n",
       "    .dataframe tbody tr th {\n",
       "        vertical-align: top;\n",
       "    }\n",
       "\n",
       "    .dataframe thead th {\n",
       "        text-align: right;\n",
       "    }\n",
       "</style>\n",
       "<table border=\"1\" class=\"dataframe\">\n",
       "  <thead>\n",
       "    <tr style=\"text-align: right;\">\n",
       "      <th></th>\n",
       "      <th>Nombre</th>\n",
       "      <th>Edad</th>\n",
       "      <th>Trabajo</th>\n",
       "      <th>Estado_Civil</th>\n",
       "      <th>Nivel_escolaridad</th>\n",
       "      <th>Tiene_Credito?</th>\n",
       "      <th>Duracion_ultimo_contacto_seg</th>\n",
       "      <th>Order_D4te</th>\n",
       "      <th>envio23$%3</th>\n",
       "      <th>Segment</th>\n",
       "      <th>Categ</th>\n",
       "      <th>SubCat</th>\n",
       "      <th>Ventas</th>\n",
       "      <th>Años</th>\n",
       "      <th>Nombres</th>\n",
       "      <th>Apellido</th>\n",
       "    </tr>\n",
       "  </thead>\n",
       "  <tbody>\n",
       "    <tr>\n",
       "      <th>0</th>\n",
       "      <td>ketty elvira/niño calderon</td>\n",
       "      <td>58</td>\n",
       "      <td>management</td>\n",
       "      <td>married</td>\n",
       "      <td>tertiary</td>\n",
       "      <td>no</td>\n",
       "      <td>261</td>\n",
       "      <td>13/09/17</td>\n",
       "      <td>Regular</td>\n",
       "      <td>Hogares</td>\n",
       "      <td>Tecnología</td>\n",
       "      <td>Cuadernos</td>\n",
       "      <td>22.483</td>\n",
       "      <td>V2016</td>\n",
       "      <td>ketty elvira</td>\n",
       "      <td>niño calderon</td>\n",
       "    </tr>\n",
       "    <tr>\n",
       "      <th>1</th>\n",
       "      <td>yanira pilar/garcia barreto</td>\n",
       "      <td>44</td>\n",
       "      <td>technician</td>\n",
       "      <td>single</td>\n",
       "      <td>secondary</td>\n",
       "      <td>no</td>\n",
       "      <td>151</td>\n",
       "      <td>25/03/18</td>\n",
       "      <td>Express_Aire</td>\n",
       "      <td>Corporativo</td>\n",
       "      <td>Muebles</td>\n",
       "      <td>Lapiceros_y_Marcadores</td>\n",
       "      <td>52.225</td>\n",
       "      <td>V2016</td>\n",
       "      <td>yanira pilar</td>\n",
       "      <td>garcia barreto</td>\n",
       "    </tr>\n",
       "    <tr>\n",
       "      <th>2</th>\n",
       "      <td>milton marina/hernandez vega</td>\n",
       "      <td>33</td>\n",
       "      <td>entrepreneur</td>\n",
       "      <td>married</td>\n",
       "      <td>secondary</td>\n",
       "      <td>no</td>\n",
       "      <td>76</td>\n",
       "      <td>26/09/17</td>\n",
       "      <td>Express_Aire</td>\n",
       "      <td>Corporativo</td>\n",
       "      <td>Suplementos_Oficina</td>\n",
       "      <td>Papel</td>\n",
       "      <td>90.924</td>\n",
       "      <td>V2016</td>\n",
       "      <td>milton marina</td>\n",
       "      <td>hernandez vega</td>\n",
       "    </tr>\n",
       "    <tr>\n",
       "      <th>3</th>\n",
       "      <td>rocio constanza/mora lopez</td>\n",
       "      <td>47</td>\n",
       "      <td>blue-collar</td>\n",
       "      <td>married</td>\n",
       "      <td>No informa</td>\n",
       "      <td>no</td>\n",
       "      <td>92</td>\n",
       "      <td>14/07/16</td>\n",
       "      <td>Regular</td>\n",
       "      <td>Startups</td>\n",
       "      <td>Suplementos_Oficina</td>\n",
       "      <td>Reglas_tijeras</td>\n",
       "      <td>2.681</td>\n",
       "      <td>V2016</td>\n",
       "      <td>rocio constanza</td>\n",
       "      <td>mora lopez</td>\n",
       "    </tr>\n",
       "    <tr>\n",
       "      <th>5</th>\n",
       "      <td>claudia stella/lopez montoya</td>\n",
       "      <td>35</td>\n",
       "      <td>management</td>\n",
       "      <td>married</td>\n",
       "      <td>tertiary</td>\n",
       "      <td>no</td>\n",
       "      <td>139</td>\n",
       "      <td>17/07/18</td>\n",
       "      <td>Express_Aire</td>\n",
       "      <td>Corporativo</td>\n",
       "      <td>Suplementos_Oficina</td>\n",
       "      <td>Papel</td>\n",
       "      <td>685.000</td>\n",
       "      <td>V2016</td>\n",
       "      <td>claudia stella</td>\n",
       "      <td>lopez montoya</td>\n",
       "    </tr>\n",
       "  </tbody>\n",
       "</table>\n",
       "</div>"
      ],
      "text/plain": [
       "                         Nombre  Edad       Trabajo Estado_Civil  \\\n",
       "0    ketty elvira/niño calderon    58    management      married   \n",
       "1   yanira pilar/garcia barreto    44    technician       single   \n",
       "2  milton marina/hernandez vega    33  entrepreneur      married   \n",
       "3    rocio constanza/mora lopez    47   blue-collar      married   \n",
       "5  claudia stella/lopez montoya    35    management      married   \n",
       "\n",
       "  Nivel_escolaridad Tiene_Credito?  Duracion_ultimo_contacto_seg Order_D4te  \\\n",
       "0          tertiary             no                           261   13/09/17   \n",
       "1         secondary             no                           151   25/03/18   \n",
       "2         secondary             no                            76   26/09/17   \n",
       "3        No informa             no                            92   14/07/16   \n",
       "5          tertiary             no                           139   17/07/18   \n",
       "\n",
       "     envio23$%3      Segment                Categ                  SubCat  \\\n",
       "0       Regular      Hogares           Tecnología               Cuadernos   \n",
       "1  Express_Aire  Corporativo              Muebles  Lapiceros_y_Marcadores   \n",
       "2  Express_Aire  Corporativo  Suplementos_Oficina                   Papel   \n",
       "3       Regular     Startups  Suplementos_Oficina          Reglas_tijeras   \n",
       "5  Express_Aire  Corporativo  Suplementos_Oficina                   Papel   \n",
       "\n",
       "    Ventas   Años          Nombres        Apellido  \n",
       "0   22.483  V2016     ketty elvira   niño calderon  \n",
       "1   52.225  V2016     yanira pilar  garcia barreto  \n",
       "2   90.924  V2016    milton marina  hernandez vega  \n",
       "3    2.681  V2016  rocio constanza      mora lopez  \n",
       "5  685.000  V2016   claudia stella   lopez montoya  "
      ]
     },
     "execution_count": 116,
     "metadata": {},
     "output_type": "execute_result"
    }
   ],
   "source": [
    "# Se elimina la columna Nombre del Data Set\n",
    "data.drop(\"Nombre\", axis=1) \n",
    "data.head()"
   ]
  },
  {
   "cell_type": "code",
   "execution_count": 117,
   "metadata": {
    "scrolled": true
   },
   "outputs": [
    {
     "data": {
      "text/plain": [
       "Index(['Nombre', 'Edad', 'Trabajo', 'Estado_Civil', 'Nivel_escolaridad',\n",
       "       'Tiene_Credito?', 'Duracion_ultimo_contacto_seg', 'Order_D4te',\n",
       "       'envio23$%3', 'Segment', 'Categ', 'SubCat', 'Ventas', 'Años', 'Nombres',\n",
       "       'Apellido'],\n",
       "      dtype='object')"
      ]
     },
     "execution_count": 117,
     "metadata": {},
     "output_type": "execute_result"
    }
   ],
   "source": [
    "data.columns"
   ]
  },
  {
   "cell_type": "code",
   "execution_count": 118,
   "metadata": {},
   "outputs": [
    {
     "data": {
      "text/plain": [
       "Suplementos_Oficina    4009\n",
       "Muebles                4006\n",
       "Tecnología             3979\n",
       "Name: Categ, dtype: int64"
      ]
     },
     "execution_count": 118,
     "metadata": {},
     "output_type": "execute_result"
    }
   ],
   "source": [
    "data.Categ.value_counts()"
   ]
  },
  {
   "cell_type": "code",
   "execution_count": 119,
   "metadata": {},
   "outputs": [
    {
     "data": {
      "text/plain": [
       "Hogares        3032\n",
       "Personas       2989\n",
       "Startups       2987\n",
       "Corporativo    2986\n",
       "Name: Segment, dtype: int64"
      ]
     },
     "execution_count": 119,
     "metadata": {},
     "output_type": "execute_result"
    }
   ],
   "source": [
    "data.Segment.value_counts()"
   ]
  },
  {
   "cell_type": "code",
   "execution_count": 120,
   "metadata": {},
   "outputs": [],
   "source": [
    "import seaborn as sns"
   ]
  },
  {
   "cell_type": "code",
   "execution_count": 121,
   "metadata": {},
   "outputs": [
    {
     "data": {
      "text/plain": [
       "<seaborn.axisgrid.PairGrid at 0x1a16ef54e0>"
      ]
     },
     "execution_count": 121,
     "metadata": {},
     "output_type": "execute_result"
    },
    {
     "data": {
      "image/png": "[encoded data removed]",
      "text/plain": [
       "<matplotlib.figure.Figure at 0x1a16ef5438>"
      ]
     },
     "metadata": {},
     "output_type": "display_data"
    }
   ],
   "source": [
    "sns.pairplot(data)"
   ]
  },
  {
   "cell_type": "code",
   "execution_count": 122,
   "metadata": {},
   "outputs": [
    {
     "data": {
      "text/plain": [
       "<seaborn.axisgrid.PairGrid at 0x1a18ad8898>"
      ]
     },
     "execution_count": 122,
     "metadata": {},
     "output_type": "execute_result"
    },
    {
     "data": {
      "image/png": "[encoded data removed]",
      "text/plain": [
       "<matplotlib.figure.Figure at 0x1a1909c400>"
      ]
     },
     "metadata": {},
     "output_type": "display_data"
    }
   ],
   "source": [
    "sns.pairplot(data, hue = 'Segment')"
   ]
  },
  {
   "cell_type": "code",
   "execution_count": 123,
   "metadata": {},
   "outputs": [
    {
     "data": {
      "text/plain": [
       "<seaborn.axisgrid.PairGrid at 0x1a16b3b860>"
      ]
     },
     "execution_count": 123,
     "metadata": {},
     "output_type": "execute_result"
    },
    {
     "data": {
      "image/png": "[encoded data removed]",
      "text/plain": [
       "<matplotlib.figure.Figure at 0x10b9dcdd8>"
      ]
     },
     "metadata": {},
     "output_type": "display_data"
    }
   ],
   "source": [
    "sns.pairplot(data, hue = 'Categ')"
   ]
  },
  {
   "cell_type": "code",
   "execution_count": 124,
   "metadata": {},
   "outputs": [
    {
     "data": {
      "text/html": [
       "<div>\n",
       "<style scoped>\n",
       "    .dataframe tbody tr th:only-of-type {\n",
       "        vertical-align: middle;\n",
       "    }\n",
       "\n",
       "    .dataframe tbody tr th {\n",
       "        vertical-align: top;\n",
       "    }\n",
       "\n",
       "    .dataframe thead th {\n",
       "        text-align: right;\n",
       "    }\n",
       "</style>\n",
       "<table border=\"1\" class=\"dataframe\">\n",
       "  <thead>\n",
       "    <tr style=\"text-align: right;\">\n",
       "      <th></th>\n",
       "      <th>Edad</th>\n",
       "      <th>Duracion_ultimo_contacto_seg</th>\n",
       "      <th>Ventas</th>\n",
       "    </tr>\n",
       "  </thead>\n",
       "  <tbody>\n",
       "    <tr>\n",
       "      <th>count</th>\n",
       "      <td>11994.000000</td>\n",
       "      <td>11994.000000</td>\n",
       "      <td>11994.000000</td>\n",
       "    </tr>\n",
       "    <tr>\n",
       "      <th>mean</th>\n",
       "      <td>36.714607</td>\n",
       "      <td>210.158913</td>\n",
       "      <td>59.077737</td>\n",
       "    </tr>\n",
       "    <tr>\n",
       "      <th>std</th>\n",
       "      <td>14.133974</td>\n",
       "      <td>239.686822</td>\n",
       "      <td>76.447070</td>\n",
       "    </tr>\n",
       "    <tr>\n",
       "      <th>min</th>\n",
       "      <td>2.000000</td>\n",
       "      <td>1.000000</td>\n",
       "      <td>1.002000</td>\n",
       "    </tr>\n",
       "    <tr>\n",
       "      <th>25%</th>\n",
       "      <td>31.000000</td>\n",
       "      <td>57.000000</td>\n",
       "      <td>27.201750</td>\n",
       "    </tr>\n",
       "    <tr>\n",
       "      <th>50%</th>\n",
       "      <td>38.000000</td>\n",
       "      <td>147.000000</td>\n",
       "      <td>52.448000</td>\n",
       "    </tr>\n",
       "    <tr>\n",
       "      <th>75%</th>\n",
       "      <td>46.000000</td>\n",
       "      <td>267.000000</td>\n",
       "      <td>76.686500</td>\n",
       "    </tr>\n",
       "    <tr>\n",
       "      <th>max</th>\n",
       "      <td>61.000000</td>\n",
       "      <td>3881.000000</td>\n",
       "      <td>996.000000</td>\n",
       "    </tr>\n",
       "  </tbody>\n",
       "</table>\n",
       "</div>"
      ],
      "text/plain": [
       "               Edad  Duracion_ultimo_contacto_seg        Ventas\n",
       "count  11994.000000                  11994.000000  11994.000000\n",
       "mean      36.714607                    210.158913     59.077737\n",
       "std       14.133974                    239.686822     76.447070\n",
       "min        2.000000                      1.000000      1.002000\n",
       "25%       31.000000                     57.000000     27.201750\n",
       "50%       38.000000                    147.000000     52.448000\n",
       "75%       46.000000                    267.000000     76.686500\n",
       "max       61.000000                   3881.000000    996.000000"
      ]
     },
     "execution_count": 124,
     "metadata": {},
     "output_type": "execute_result"
    }
   ],
   "source": [
    "data.describe()"
   ]
  },
  {
   "cell_type": "markdown",
   "metadata": {},
   "source": [
    "Creo un df nuevo con el análisis de los ingresos"
   ]
  },
  {
   "cell_type": "code",
   "execution_count": 125,
   "metadata": {},
   "outputs": [
    {
     "data": {
      "text/plain": [
       "Index(['Nombre', 'Edad', 'Trabajo', 'Estado_Civil', 'Nivel_escolaridad',\n",
       "       'Tiene_Credito?', 'Duracion_ultimo_contacto_seg', 'Order_D4te',\n",
       "       'envio23$%3', 'Segment', 'Categ', 'SubCat', 'Ventas', 'Años', 'Nombres',\n",
       "       'Apellido'],\n",
       "      dtype='object')"
      ]
     },
     "execution_count": 125,
     "metadata": {},
     "output_type": "execute_result"
    }
   ],
   "source": [
    "data.columns"
   ]
  },
  {
   "cell_type": "code",
   "execution_count": 126,
   "metadata": {},
   "outputs": [
    {
     "data": {
      "text/html": [
       "<div>\n",
       "<style scoped>\n",
       "    .dataframe tbody tr th:only-of-type {\n",
       "        vertical-align: middle;\n",
       "    }\n",
       "\n",
       "    .dataframe tbody tr th {\n",
       "        vertical-align: top;\n",
       "    }\n",
       "\n",
       "    .dataframe thead th {\n",
       "        text-align: right;\n",
       "    }\n",
       "</style>\n",
       "<table border=\"1\" class=\"dataframe\">\n",
       "  <thead>\n",
       "    <tr style=\"text-align: right;\">\n",
       "      <th></th>\n",
       "      <th>Trabajo</th>\n",
       "      <th>Estado_Civil</th>\n",
       "      <th>Segment</th>\n",
       "      <th>envio23$%3</th>\n",
       "      <th>Categ</th>\n",
       "      <th>SubCat</th>\n",
       "      <th>Ventas</th>\n",
       "      <th>Años</th>\n",
       "    </tr>\n",
       "  </thead>\n",
       "  <tbody>\n",
       "    <tr>\n",
       "      <th>0</th>\n",
       "      <td>management</td>\n",
       "      <td>married</td>\n",
       "      <td>Hogares</td>\n",
       "      <td>Regular</td>\n",
       "      <td>Tecnología</td>\n",
       "      <td>Cuadernos</td>\n",
       "      <td>22.483</td>\n",
       "      <td>V2016</td>\n",
       "    </tr>\n",
       "    <tr>\n",
       "      <th>1</th>\n",
       "      <td>technician</td>\n",
       "      <td>single</td>\n",
       "      <td>Corporativo</td>\n",
       "      <td>Express_Aire</td>\n",
       "      <td>Muebles</td>\n",
       "      <td>Lapiceros_y_Marcadores</td>\n",
       "      <td>52.225</td>\n",
       "      <td>V2016</td>\n",
       "    </tr>\n",
       "    <tr>\n",
       "      <th>2</th>\n",
       "      <td>entrepreneur</td>\n",
       "      <td>married</td>\n",
       "      <td>Corporativo</td>\n",
       "      <td>Express_Aire</td>\n",
       "      <td>Suplementos_Oficina</td>\n",
       "      <td>Papel</td>\n",
       "      <td>90.924</td>\n",
       "      <td>V2016</td>\n",
       "    </tr>\n",
       "    <tr>\n",
       "      <th>3</th>\n",
       "      <td>blue-collar</td>\n",
       "      <td>married</td>\n",
       "      <td>Startups</td>\n",
       "      <td>Regular</td>\n",
       "      <td>Suplementos_Oficina</td>\n",
       "      <td>Reglas_tijeras</td>\n",
       "      <td>2.681</td>\n",
       "      <td>V2016</td>\n",
       "    </tr>\n",
       "    <tr>\n",
       "      <th>5</th>\n",
       "      <td>management</td>\n",
       "      <td>married</td>\n",
       "      <td>Corporativo</td>\n",
       "      <td>Express_Aire</td>\n",
       "      <td>Suplementos_Oficina</td>\n",
       "      <td>Papel</td>\n",
       "      <td>685.000</td>\n",
       "      <td>V2016</td>\n",
       "    </tr>\n",
       "  </tbody>\n",
       "</table>\n",
       "</div>"
      ],
      "text/plain": [
       "        Trabajo Estado_Civil      Segment    envio23$%3                Categ  \\\n",
       "0    management      married      Hogares       Regular           Tecnología   \n",
       "1    technician       single  Corporativo  Express_Aire              Muebles   \n",
       "2  entrepreneur      married  Corporativo  Express_Aire  Suplementos_Oficina   \n",
       "3   blue-collar      married     Startups       Regular  Suplementos_Oficina   \n",
       "5    management      married  Corporativo  Express_Aire  Suplementos_Oficina   \n",
       "\n",
       "                   SubCat   Ventas   Años  \n",
       "0               Cuadernos   22.483  V2016  \n",
       "1  Lapiceros_y_Marcadores   52.225  V2016  \n",
       "2                   Papel   90.924  V2016  \n",
       "3          Reglas_tijeras    2.681  V2016  \n",
       "5                   Papel  685.000  V2016  "
      ]
     },
     "execution_count": 126,
     "metadata": {},
     "output_type": "execute_result"
    }
   ],
   "source": [
    "analisis_ventas = data.loc[:,['Trabajo','Estado_Civil','Segment','envio23$%3','Categ', 'SubCat', 'Ventas', 'Años']]\n",
    "analisis_ventas.head()"
   ]
  },
  {
   "cell_type": "code",
   "execution_count": 127,
   "metadata": {},
   "outputs": [
    {
     "data": {
      "text/html": [
       "<div>\n",
       "<style scoped>\n",
       "    .dataframe tbody tr th:only-of-type {\n",
       "        vertical-align: middle;\n",
       "    }\n",
       "\n",
       "    .dataframe tbody tr th {\n",
       "        vertical-align: top;\n",
       "    }\n",
       "\n",
       "    .dataframe thead th {\n",
       "        text-align: right;\n",
       "    }\n",
       "</style>\n",
       "<table border=\"1\" class=\"dataframe\">\n",
       "  <thead>\n",
       "    <tr style=\"text-align: right;\">\n",
       "      <th></th>\n",
       "      <th>Estado_Civil</th>\n",
       "      <th>Ventas</th>\n",
       "    </tr>\n",
       "  </thead>\n",
       "  <tbody>\n",
       "    <tr>\n",
       "      <th>0</th>\n",
       "      <td>divorced</td>\n",
       "      <td>90088.764</td>\n",
       "    </tr>\n",
       "    <tr>\n",
       "      <th>1</th>\n",
       "      <td>married</td>\n",
       "      <td>442626.903</td>\n",
       "    </tr>\n",
       "    <tr>\n",
       "      <th>2</th>\n",
       "      <td>single</td>\n",
       "      <td>175862.715</td>\n",
       "    </tr>\n",
       "  </tbody>\n",
       "</table>\n",
       "</div>"
      ],
      "text/plain": [
       "  Estado_Civil      Ventas\n",
       "0     divorced   90088.764\n",
       "1      married  442626.903\n",
       "2       single  175862.715"
      ]
     },
     "execution_count": 127,
     "metadata": {},
     "output_type": "execute_result"
    }
   ],
   "source": [
    "results = analisis_ventas.groupby('Estado_Civil', as_index=False).sum()\n",
    "results"
   ]
  },
  {
   "cell_type": "code",
   "execution_count": 128,
   "metadata": {},
   "outputs": [
    {
     "data": {
      "text/html": [
       "<div>\n",
       "<style scoped>\n",
       "    .dataframe tbody tr th:only-of-type {\n",
       "        vertical-align: middle;\n",
       "    }\n",
       "\n",
       "    .dataframe tbody tr th {\n",
       "        vertical-align: top;\n",
       "    }\n",
       "\n",
       "    .dataframe thead th {\n",
       "        text-align: right;\n",
       "    }\n",
       "</style>\n",
       "<table border=\"1\" class=\"dataframe\">\n",
       "  <thead>\n",
       "    <tr style=\"text-align: right;\">\n",
       "      <th></th>\n",
       "      <th>Estado_Civil</th>\n",
       "      <th>Ventas</th>\n",
       "    </tr>\n",
       "  </thead>\n",
       "  <tbody>\n",
       "    <tr>\n",
       "      <th>0</th>\n",
       "      <td>divorced</td>\n",
       "      <td>90088.764</td>\n",
       "    </tr>\n",
       "    <tr>\n",
       "      <th>1</th>\n",
       "      <td>married</td>\n",
       "      <td>442626.903</td>\n",
       "    </tr>\n",
       "    <tr>\n",
       "      <th>2</th>\n",
       "      <td>single</td>\n",
       "      <td>175862.715</td>\n",
       "    </tr>\n",
       "  </tbody>\n",
       "</table>\n",
       "</div>"
      ],
      "text/plain": [
       "  Estado_Civil      Ventas\n",
       "0     divorced   90088.764\n",
       "1      married  442626.903\n",
       "2       single  175862.715"
      ]
     },
     "execution_count": 128,
     "metadata": {},
     "output_type": "execute_result"
    }
   ],
   "source": [
    "#results['Ventas'] = results['Ventas'].map('${:,.1f}'.format)\n",
    "results"
   ]
  },
  {
   "cell_type": "code",
   "execution_count": 129,
   "metadata": {},
   "outputs": [
    {
     "data": {
      "text/html": [
       "<div>\n",
       "<style scoped>\n",
       "    .dataframe tbody tr th:only-of-type {\n",
       "        vertical-align: middle;\n",
       "    }\n",
       "\n",
       "    .dataframe tbody tr th {\n",
       "        vertical-align: top;\n",
       "    }\n",
       "\n",
       "    .dataframe thead th {\n",
       "        text-align: right;\n",
       "    }\n",
       "</style>\n",
       "<table border=\"1\" class=\"dataframe\">\n",
       "  <thead>\n",
       "    <tr style=\"text-align: right;\">\n",
       "      <th></th>\n",
       "      <th>Categ</th>\n",
       "      <th>Ventas</th>\n",
       "    </tr>\n",
       "  </thead>\n",
       "  <tbody>\n",
       "    <tr>\n",
       "      <th>0</th>\n",
       "      <td>Muebles</td>\n",
       "      <td>238965.109</td>\n",
       "    </tr>\n",
       "    <tr>\n",
       "      <th>1</th>\n",
       "      <td>Suplementos_Oficina</td>\n",
       "      <td>239681.465</td>\n",
       "    </tr>\n",
       "    <tr>\n",
       "      <th>2</th>\n",
       "      <td>Tecnología</td>\n",
       "      <td>229931.808</td>\n",
       "    </tr>\n",
       "  </tbody>\n",
       "</table>\n",
       "</div>"
      ],
      "text/plain": [
       "                 Categ      Ventas\n",
       "0              Muebles  238965.109\n",
       "1  Suplementos_Oficina  239681.465\n",
       "2           Tecnología  229931.808"
      ]
     },
     "execution_count": 129,
     "metadata": {},
     "output_type": "execute_result"
    }
   ],
   "source": [
    "results2 = analisis_ventas.groupby('Categ',as_index=False).sum()\n",
    "#results2['Ventas'] = results2['Ventas'].map('${:,.1f}'.format)\n",
    "results2"
   ]
  },
  {
   "cell_type": "code",
   "execution_count": 130,
   "metadata": {},
   "outputs": [
    {
     "data": {
      "text/html": [
       "<div>\n",
       "<style scoped>\n",
       "    .dataframe tbody tr th:only-of-type {\n",
       "        vertical-align: middle;\n",
       "    }\n",
       "\n",
       "    .dataframe tbody tr th {\n",
       "        vertical-align: top;\n",
       "    }\n",
       "\n",
       "    .dataframe thead th {\n",
       "        text-align: right;\n",
       "    }\n",
       "</style>\n",
       "<table border=\"1\" class=\"dataframe\">\n",
       "  <thead>\n",
       "    <tr style=\"text-align: right;\">\n",
       "      <th></th>\n",
       "      <th>Trabajo</th>\n",
       "      <th>Ventas</th>\n",
       "    </tr>\n",
       "  </thead>\n",
       "  <tbody>\n",
       "    <tr>\n",
       "      <th>0</th>\n",
       "      <td>admin.</td>\n",
       "      <td>84803.088</td>\n",
       "    </tr>\n",
       "    <tr>\n",
       "      <th>1</th>\n",
       "      <td>blue-collar</td>\n",
       "      <td>216703.508</td>\n",
       "    </tr>\n",
       "    <tr>\n",
       "      <th>2</th>\n",
       "      <td>entrepreneur</td>\n",
       "      <td>27123.779</td>\n",
       "    </tr>\n",
       "    <tr>\n",
       "      <th>3</th>\n",
       "      <td>housemaid</td>\n",
       "      <td>18588.160</td>\n",
       "    </tr>\n",
       "    <tr>\n",
       "      <th>4</th>\n",
       "      <td>management</td>\n",
       "      <td>107564.216</td>\n",
       "    </tr>\n",
       "    <tr>\n",
       "      <th>5</th>\n",
       "      <td>retired</td>\n",
       "      <td>29760.772</td>\n",
       "    </tr>\n",
       "    <tr>\n",
       "      <th>6</th>\n",
       "      <td>self-employed</td>\n",
       "      <td>20807.269</td>\n",
       "    </tr>\n",
       "    <tr>\n",
       "      <th>7</th>\n",
       "      <td>services</td>\n",
       "      <td>77693.984</td>\n",
       "    </tr>\n",
       "    <tr>\n",
       "      <th>8</th>\n",
       "      <td>student</td>\n",
       "      <td>6566.690</td>\n",
       "    </tr>\n",
       "    <tr>\n",
       "      <th>9</th>\n",
       "      <td>technician</td>\n",
       "      <td>104048.667</td>\n",
       "    </tr>\n",
       "    <tr>\n",
       "      <th>10</th>\n",
       "      <td>unemployed</td>\n",
       "      <td>14918.249</td>\n",
       "    </tr>\n",
       "  </tbody>\n",
       "</table>\n",
       "</div>"
      ],
      "text/plain": [
       "          Trabajo      Ventas\n",
       "0          admin.   84803.088\n",
       "1     blue-collar  216703.508\n",
       "2    entrepreneur   27123.779\n",
       "3       housemaid   18588.160\n",
       "4      management  107564.216\n",
       "5         retired   29760.772\n",
       "6   self-employed   20807.269\n",
       "7        services   77693.984\n",
       "8         student    6566.690\n",
       "9      technician  104048.667\n",
       "10     unemployed   14918.249"
      ]
     },
     "execution_count": 130,
     "metadata": {},
     "output_type": "execute_result"
    }
   ],
   "source": [
    "results3 = analisis_ventas.groupby('Trabajo',as_index=False).sum()\n",
    "#results3['Ventas'] = results3['Ventas'].map('${:,.1f}'.format)\n",
    "results3"
   ]
  },
  {
   "cell_type": "code",
   "execution_count": 131,
   "metadata": {},
   "outputs": [
    {
     "data": {
      "text/plain": [
       "<matplotlib.axes._subplots.AxesSubplot at 0x1a17d91a90>"
      ]
     },
     "execution_count": 131,
     "metadata": {},
     "output_type": "execute_result"
    },
    {
     "data": {
      "image/png": "[encoded data removed]",
      "text/plain": [
       "<matplotlib.figure.Figure at 0x1a17d35c88>"
      ]
     },
     "metadata": {},
     "output_type": "display_data"
    }
   ],
   "source": [
    "results3.plot(x='Trabajo', y='Ventas', kind='barh',sort_columns=True)"
   ]
  },
  {
   "cell_type": "code",
   "execution_count": 132,
   "metadata": {},
   "outputs": [
    {
     "data": {
      "text/plain": [
       "<matplotlib.axes._subplots.AxesSubplot at 0x1a18209c18>"
      ]
     },
     "execution_count": 132,
     "metadata": {},
     "output_type": "execute_result"
    },
    {
     "data": {
      "image/png": "[encoded data removed]",
      "text/plain": [
       "<matplotlib.figure.Figure at 0x1a1804ce48>"
      ]
     },
     "metadata": {},
     "output_type": "display_data"
    }
   ],
   "source": [
    "results3.sort_values('Ventas', ascending=True).plot.barh(x='Trabajo', y='Ventas')"
   ]
  },
  {
   "cell_type": "code",
   "execution_count": 133,
   "metadata": {
    "slideshow": {
     "slide_type": "-"
    }
   },
   "outputs": [
    {
     "data": {
      "text/plain": [
       "<matplotlib.axes._subplots.AxesSubplot at 0x1a197fc1d0>"
      ]
     },
     "execution_count": 133,
     "metadata": {},
     "output_type": "execute_result"
    },
    {
     "data": {
      "image/png": "[encoded data removed]",
      "text/plain": [
       "<matplotlib.figure.Figure at 0x1a196a1208>"
      ]
     },
     "metadata": {},
     "output_type": "display_data"
    },
    {
     "data": {
      "image/png": "[encoded data removed]",
      "text/plain": [
       "<matplotlib.figure.Figure at 0x1a1826eeb8>"
      ]
     },
     "metadata": {},
     "output_type": "display_data"
    },
    {
     "data": {
      "image/png": "[encoded data removed]",
      "text/plain": [
       "<matplotlib.figure.Figure at 0x1a197e8860>"
      ]
     },
     "metadata": {},
     "output_type": "display_data"
    }
   ],
   "source": [
    "results.sort_values('Ventas', ascending=False).plot.bar(x='Estado_Civil', y='Ventas')\n",
    "results3.sort_values('Ventas', ascending=True).plot.barh(x='Trabajo', y='Ventas')\n",
    "\n",
    "results4 = analisis_ventas.groupby('envio23$%3', as_index=False).sum()\n",
    "results4.sort_values('Ventas', ascending=False).plot.bar(x='envio23$%3', y='Ventas')"
   ]
  },
  {
   "cell_type": "code",
   "execution_count": null,
   "metadata": {},
   "outputs": [],
   "source": []
  },
  {
   "cell_type": "code",
   "execution_count": null,
   "metadata": {},
   "outputs": [],
   "source": []
  },
  {
   "cell_type": "code",
   "execution_count": null,
   "metadata": {},
   "outputs": [],
   "source": []
  },
  {
   "cell_type": "markdown",
   "metadata": {},
   "source": []
  }
 ],
 "metadata": {
  "kernelspec": {
   "display_name": "Python 3",
   "language": "python",
   "name": "python3"
  },
  "language_info": {
   "codemirror_mode": {
    "name": "ipython",
    "version": 3
   },
   "file_extension": ".py",
   "mimetype": "text/x-python",
   "name": "python",
   "nbconvert_exporter": "python",
   "pygments_lexer": "ipython3",
   "version": "3.6.4"
  }
 },
 "nbformat": 4,
 "nbformat_minor": 2
}
